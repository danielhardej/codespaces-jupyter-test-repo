{
 "cells": [
  {
   "attachments": {},
   "cell_type": "markdown",
   "metadata": {},
   "source": [
    "# Testing some Python notebooks!"
   ]
  },
  {
   "cell_type": "code",
   "execution_count": 1,
   "metadata": {},
   "outputs": [],
   "source": [
    "# import all the useful libaries of some data analysis\n",
    "import numpy as np\n",
    "import pandas as pd\n",
    "import matplotlib.pyplot as plt\n"
   ]
  },
  {
   "cell_type": "code",
   "execution_count": 3,
   "metadata": {},
   "outputs": [],
   "source": [
    "# create a function to import data from csv and store it as a dictionary\n",
    "def csv_to_dict():\n",
    "    # import data from csv\n",
    "    data = pd.read_csv('data.csv')\n",
    "    # convert data to dictionary\n",
    "    data_dict = data.to_dict()\n",
    "    # return the dictionary\n",
    "    return data_dict\n"
   ]
  },
  {
   "cell_type": "code",
   "execution_count": 4,
   "metadata": {},
   "outputs": [],
   "source": [
    "# write a unit test for csv_to_dict()\n",
    "def test_csv_to_dict():\n",
    "    # import data from csv\n",
    "    data = pd.read_csv('data.csv')\n",
    "    # convert data to dictionary\n",
    "    data_dict = data.to_dict()\n",
    "    # assert the function is working\n",
    "    assert csv_to_dict() == data_dict\n",
    "\n"
   ]
  },
  {
   "cell_type": "code",
   "execution_count": 8,
   "metadata": {},
   "outputs": [],
   "source": [
    "# create a function that opens a csv file and returns it as a dictionary with the column names as keys and the values as lists\n",
    "def csv_to_dict2(file_name):\n",
    "    data = pd.read_csv(file_name)\n",
    "    data_dict = {}\n",
    "    # convert each column name into a key in the dictionary and convert each column of the data to a list\n",
    "    for column in data.columns:\n",
    "        data_dict[column] = data[column].tolist()\n",
    "    return data_dict\n",
    "\n",
    "\n"
   ]
  },
  {
   "cell_type": "code",
   "execution_count": 11,
   "metadata": {},
   "outputs": [
    {
     "name": "stdout",
     "output_type": "stream",
     "text": [
      "movie\n",
      "production_budget\n",
      "domestic_gross\n",
      "worldwide_gross\n",
      "mpaa_rating\n",
      "genre\n"
     ]
    }
   ],
   "source": [
    "# test csv_to_dict2() on movies.csv\n",
    "\n"
   ]
  },
  {
   "cell_type": "code",
   "execution_count": null,
   "metadata": {},
   "outputs": [],
   "source": []
  }
 ],
 "metadata": {
  "kernelspec": {
   "display_name": "Python 3",
   "language": "python",
   "name": "python3"
  },
  "language_info": {
   "codemirror_mode": {
    "name": "ipython",
    "version": 3
   },
   "file_extension": ".py",
   "mimetype": "text/x-python",
   "name": "python",
   "nbconvert_exporter": "python",
   "pygments_lexer": "ipython3",
   "version": "3.10.4"
  },
  "orig_nbformat": 4
 },
 "nbformat": 4,
 "nbformat_minor": 2
}
